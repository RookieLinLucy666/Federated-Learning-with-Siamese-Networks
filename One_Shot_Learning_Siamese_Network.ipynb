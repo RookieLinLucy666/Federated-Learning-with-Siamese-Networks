{
 "cells": [
  {
   "cell_type": "code",
   "execution_count": 1,
   "id": "cf136e2e",
   "metadata": {},
   "outputs": [],
   "source": [
    "import torch\n",
    "from torchvision.datasets import ImageFolder\n",
    "from torchvision import transforms\n",
    "from torch.utils import data\n",
    "import torch.nn as nn\n",
    "import torch.nn.functional as F\n",
    "from torch.autograd import Variable\n",
    "import PIL\n",
    "from PIL import Image\n",
    "import random\n",
    "import numpy as np"
   ]
  },
  {
   "cell_type": "code",
   "execution_count": 2,
   "id": "61a387f6",
   "metadata": {},
   "outputs": [],
   "source": [
    "import random\n",
    "\n",
    "class AlzheimersData(data.Dataset):\n",
    "    \n",
    "    def __init__(self,imageFolderDataset,should_invert=False,transform=None):\n",
    "        self.imageFolderDataset=imageFolderDataset\n",
    "        self.should_invert=should_invert\n",
    "        self.transform=transform\n",
    "    \n",
    "    def __getitem__(self,idx):\n",
    "        img0_tuple=random.choice(self.imageFolderDataset.imgs) # tuple of the form (Image_PATH,label)\n",
    "        same_class=random.choice([True,False]) # Whether image 2 should be in same class or not\n",
    "        \n",
    "        if(same_class):\n",
    "            while True:\n",
    "                img1_tuple=random.choice(self.imageFolderDataset.imgs)\n",
    "                if(img0_tuple[1]==img1_tuple[1]):\n",
    "                    break\n",
    "        else:\n",
    "            img1_tuple=random.choice(self.imageFolderDataset.imgs)\n",
    "\n",
    "        img0=Image.open(img0_tuple[0])\n",
    "        img1=Image.open(img1_tuple[0])\n",
    "        \n",
    "        if(self.should_invert):\n",
    "            img0=PIL.ImageOps.invert(img0)\n",
    "            img1=PIL.ImageOps.invert(img1)\n",
    "            \n",
    "        if self.transform is not None:\n",
    "            img0 = self.transform(img0)\n",
    "            img1 = self.transform(img1)\n",
    "        \n",
    "        return img0, img1, torch.from_numpy(np.array([int(img0_tuple[1]!=img1_tuple[1])]))\n",
    "    \n",
    "    def __len__(self):\n",
    "        return len(self.imageFolderDataset.imgs)"
   ]
  },
  {
   "cell_type": "code",
   "execution_count": 3,
   "id": "73108df4",
   "metadata": {},
   "outputs": [],
   "source": [
    "train_data=ImageFolder(\"C:/Datasets/Alzheimer_s Dataset/train\")\n",
    "test_data=ImageFolder(\"C:/Datasets/Alzheimer_s Dataset/test\")"
   ]
  },
  {
   "cell_type": "code",
   "execution_count": 4,
   "id": "f6d47d49",
   "metadata": {},
   "outputs": [],
   "source": [
    "transform=transforms.Compose([\n",
    "    transforms.ToTensor(),\n",
    "    transforms.Normalize(0.5,0.5)\n",
    "])"
   ]
  },
  {
   "cell_type": "code",
   "execution_count": 5,
   "id": "10f71437",
   "metadata": {},
   "outputs": [],
   "source": [
    "train_data=AlzheimersData(train_data,transform=transform)\n",
    "test_data=AlzheimersData(test_data,transform=transform)"
   ]
  },
  {
   "cell_type": "code",
   "execution_count": 6,
   "id": "b08c370c",
   "metadata": {},
   "outputs": [],
   "source": [
    "train_dataloader=data.DataLoader(train_data,batch_size=10,shuffle=True)\n",
    "testLoader=data.DataLoader(test_data,batch_size=10,shuffle=True)"
   ]
  },
  {
   "cell_type": "code",
   "execution_count": 7,
   "id": "b1c65659",
   "metadata": {},
   "outputs": [],
   "source": [
    "class SiameseNetwork(nn.Module):\n",
    "    def __init__(self):\n",
    "        super().__init__()\n",
    "        self.conv1=nn.Sequential(\n",
    "            nn.Conv2d(1,1,4),\n",
    "            nn.MaxPool2d(2, 2)\n",
    "        )\n",
    "        self.fc1=nn.Linear(2009,120)\n",
    "        self.fc2=nn.Linear(120,84)\n",
    "        self.fc3=nn.Linear(84,4)\n",
    "        self.softmax=nn.Softmax(dim=1)\n",
    "        \n",
    "    def forward(self,input1,input2):\n",
    "        output1=self.forward_once(input1)\n",
    "        output2=self.forward_once(input2)\n",
    "        return output1,output2\n",
    "        \n",
    "    def forward_once(self,x):\n",
    "        x=self.conv1(x)\n",
    "        x=self.conv1(x)\n",
    "        x=torch.flatten(x,1)\n",
    "        x=F.relu(self.fc1(x))\n",
    "        x=F.relu(self.fc2(x))\n",
    "        x=F.relu(self.fc3(x))\n",
    "        # x=self.softmax(self.fc3(x))\n",
    "        return x"
   ]
  },
  {
   "cell_type": "code",
   "execution_count": 8,
   "id": "a87aa221",
   "metadata": {},
   "outputs": [],
   "source": [
    "class ContrastiveLoss(nn.Module):\n",
    "    \"\"\"\n",
    "    Contrastive Loss Function\n",
    "    \"\"\"\n",
    "    def __init__(self,margin=2.0):\n",
    "        super().__init__()\n",
    "        self.margin=margin\n",
    "    \n",
    "    def forward(self,output1,output2,label):\n",
    "        euclidean_distance=F.pairwise_distance(output1,output2)\n",
    "        loss_contrastive=torch.mean((1-label)*torch.pow(euclidean_distance,2)+\n",
    "                                    (label) * torch.pow(torch.clamp(self.margin - euclidean_distance, min=0.0), 2))\n",
    "        return loss_contrastive"
   ]
  },
  {
   "cell_type": "code",
   "execution_count": 9,
   "id": "ee292930",
   "metadata": {},
   "outputs": [],
   "source": [
    "net=SiameseNetwork().cuda()\n",
    "criterion=ContrastiveLoss().cuda()\n",
    "optimizer=torch.optim.Adam(net.parameters(),lr=0.0005)"
   ]
  },
  {
   "cell_type": "code",
   "execution_count": 10,
   "id": "83277f69",
   "metadata": {},
   "outputs": [
    {
     "data": {
      "text/plain": [
       "SiameseNetwork(\n",
       "  (conv1): Sequential(\n",
       "    (0): Conv2d(1, 1, kernel_size=(4, 4), stride=(1, 1))\n",
       "    (1): MaxPool2d(kernel_size=2, stride=2, padding=0, dilation=1, ceil_mode=False)\n",
       "  )\n",
       "  (fc1): Linear(in_features=2009, out_features=120, bias=True)\n",
       "  (fc2): Linear(in_features=120, out_features=84, bias=True)\n",
       "  (fc3): Linear(in_features=84, out_features=4, bias=True)\n",
       "  (softmax): Softmax(dim=1)\n",
       ")"
      ]
     },
     "execution_count": 10,
     "metadata": {},
     "output_type": "execute_result"
    }
   ],
   "source": [
    "net"
   ]
  },
  {
   "cell_type": "code",
   "execution_count": 11,
   "id": "cd378d97",
   "metadata": {},
   "outputs": [
    {
     "name": "stdout",
     "output_type": "stream",
     "text": [
      "[tensor([[[[-1., -1., -1.,  ..., -1., -1., -1.],\n",
      "          [-1., -1., -1.,  ..., -1., -1., -1.],\n",
      "          [-1., -1., -1.,  ..., -1., -1., -1.],\n",
      "          ...,\n",
      "          [-1., -1., -1.,  ..., -1., -1., -1.],\n",
      "          [-1., -1., -1.,  ..., -1., -1., -1.],\n",
      "          [-1., -1., -1.,  ..., -1., -1., -1.]]],\n",
      "\n",
      "\n",
      "        [[[-1., -1., -1.,  ..., -1., -1., -1.],\n",
      "          [-1., -1., -1.,  ..., -1., -1., -1.],\n",
      "          [-1., -1., -1.,  ..., -1., -1., -1.],\n",
      "          ...,\n",
      "          [-1., -1., -1.,  ..., -1., -1., -1.],\n",
      "          [-1., -1., -1.,  ..., -1., -1., -1.],\n",
      "          [-1., -1., -1.,  ..., -1., -1., -1.]]],\n",
      "\n",
      "\n",
      "        [[[-1., -1., -1.,  ..., -1., -1., -1.],\n",
      "          [-1., -1., -1.,  ..., -1., -1., -1.],\n",
      "          [-1., -1., -1.,  ..., -1., -1., -1.],\n",
      "          ...,\n",
      "          [-1., -1., -1.,  ..., -1., -1., -1.],\n",
      "          [-1., -1., -1.,  ..., -1., -1., -1.],\n",
      "          [-1., -1., -1.,  ..., -1., -1., -1.]]],\n",
      "\n",
      "\n",
      "        ...,\n",
      "\n",
      "\n",
      "        [[[-1., -1., -1.,  ..., -1., -1., -1.],\n",
      "          [-1., -1., -1.,  ..., -1., -1., -1.],\n",
      "          [-1., -1., -1.,  ..., -1., -1., -1.],\n",
      "          ...,\n",
      "          [-1., -1., -1.,  ..., -1., -1., -1.],\n",
      "          [-1., -1., -1.,  ..., -1., -1., -1.],\n",
      "          [-1., -1., -1.,  ..., -1., -1., -1.]]],\n",
      "\n",
      "\n",
      "        [[[-1., -1., -1.,  ..., -1., -1., -1.],\n",
      "          [-1., -1., -1.,  ..., -1., -1., -1.],\n",
      "          [-1., -1., -1.,  ..., -1., -1., -1.],\n",
      "          ...,\n",
      "          [-1., -1., -1.,  ..., -1., -1., -1.],\n",
      "          [-1., -1., -1.,  ..., -1., -1., -1.],\n",
      "          [-1., -1., -1.,  ..., -1., -1., -1.]]],\n",
      "\n",
      "\n",
      "        [[[-1., -1., -1.,  ..., -1., -1., -1.],\n",
      "          [-1., -1., -1.,  ..., -1., -1., -1.],\n",
      "          [-1., -1., -1.,  ..., -1., -1., -1.],\n",
      "          ...,\n",
      "          [-1., -1., -1.,  ..., -1., -1., -1.],\n",
      "          [-1., -1., -1.,  ..., -1., -1., -1.],\n",
      "          [-1., -1., -1.,  ..., -1., -1., -1.]]]]), tensor([[[[-1., -1., -1.,  ..., -1., -1., -1.],\n",
      "          [-1., -1., -1.,  ..., -1., -1., -1.],\n",
      "          [-1., -1., -1.,  ..., -1., -1., -1.],\n",
      "          ...,\n",
      "          [-1., -1., -1.,  ..., -1., -1., -1.],\n",
      "          [-1., -1., -1.,  ..., -1., -1., -1.],\n",
      "          [-1., -1., -1.,  ..., -1., -1., -1.]]],\n",
      "\n",
      "\n",
      "        [[[-1., -1., -1.,  ..., -1., -1., -1.],\n",
      "          [-1., -1., -1.,  ..., -1., -1., -1.],\n",
      "          [-1., -1., -1.,  ..., -1., -1., -1.],\n",
      "          ...,\n",
      "          [-1., -1., -1.,  ..., -1., -1., -1.],\n",
      "          [-1., -1., -1.,  ..., -1., -1., -1.],\n",
      "          [-1., -1., -1.,  ..., -1., -1., -1.]]],\n",
      "\n",
      "\n",
      "        [[[-1., -1., -1.,  ..., -1., -1., -1.],\n",
      "          [-1., -1., -1.,  ..., -1., -1., -1.],\n",
      "          [-1., -1., -1.,  ..., -1., -1., -1.],\n",
      "          ...,\n",
      "          [-1., -1., -1.,  ..., -1., -1., -1.],\n",
      "          [-1., -1., -1.,  ..., -1., -1., -1.],\n",
      "          [-1., -1., -1.,  ..., -1., -1., -1.]]],\n",
      "\n",
      "\n",
      "        ...,\n",
      "\n",
      "\n",
      "        [[[-1., -1., -1.,  ..., -1., -1., -1.],\n",
      "          [-1., -1., -1.,  ..., -1., -1., -1.],\n",
      "          [-1., -1., -1.,  ..., -1., -1., -1.],\n",
      "          ...,\n",
      "          [-1., -1., -1.,  ..., -1., -1., -1.],\n",
      "          [-1., -1., -1.,  ..., -1., -1., -1.],\n",
      "          [-1., -1., -1.,  ..., -1., -1., -1.]]],\n",
      "\n",
      "\n",
      "        [[[-1., -1., -1.,  ..., -1., -1., -1.],\n",
      "          [-1., -1., -1.,  ..., -1., -1., -1.],\n",
      "          [-1., -1., -1.,  ..., -1., -1., -1.],\n",
      "          ...,\n",
      "          [-1., -1., -1.,  ..., -1., -1., -1.],\n",
      "          [-1., -1., -1.,  ..., -1., -1., -1.],\n",
      "          [-1., -1., -1.,  ..., -1., -1., -1.]]],\n",
      "\n",
      "\n",
      "        [[[-1., -1., -1.,  ..., -1., -1., -1.],\n",
      "          [-1., -1., -1.,  ..., -1., -1., -1.],\n",
      "          [-1., -1., -1.,  ..., -1., -1., -1.],\n",
      "          ...,\n",
      "          [-1., -1., -1.,  ..., -1., -1., -1.],\n",
      "          [-1., -1., -1.,  ..., -1., -1., -1.],\n",
      "          [-1., -1., -1.,  ..., -1., -1., -1.]]]]), tensor([[0],\n",
      "        [0],\n",
      "        [1],\n",
      "        [1],\n",
      "        [1],\n",
      "        [0],\n",
      "        [1],\n",
      "        [0],\n",
      "        [0],\n",
      "        [0]], dtype=torch.int32)]\n"
     ]
    }
   ],
   "source": [
    "print(next(iter(train_dataloader)))"
   ]
  },
  {
   "cell_type": "code",
   "execution_count": 12,
   "id": "622e732a",
   "metadata": {},
   "outputs": [],
   "source": [
    "loss_history = [] \n",
    "test_loss=[]"
   ]
  },
  {
   "cell_type": "code",
   "execution_count": 13,
   "id": "3f48d99a",
   "metadata": {},
   "outputs": [
    {
     "name": "stdout",
     "output_type": "stream",
     "text": [
      "Epoch 0 Loss:0.9550496185557884 Val_Loss:1.4908387660980225\n",
      "Epoch 1 Loss:0.91364744081948 Val_Loss:0.41095662117004395\n",
      "Epoch 2 Loss:0.9038883027807604 Val_Loss:0.4115821421146393\n",
      "Epoch 3 Loss:0.9237050248226459 Val_Loss:0.7496629953384399\n",
      "Epoch 4 Loss:0.9306301416477032 Val_Loss:1.0668288469314575\n",
      "Epoch 5 Loss:0.9108325751538281 Val_Loss:0.017492949962615967\n",
      "Epoch 6 Loss:0.9211429735794519 Val_Loss:1.1480331420898438\n",
      "Epoch 7 Loss:0.9242084233732949 Val_Loss:1.0960839986801147\n",
      "Epoch 8 Loss:0.9070788905765229 Val_Loss:1.58480703830719\n",
      "Epoch 9 Loss:0.935821466423847 Val_Loss:1.1028062105178833\n"
     ]
    }
   ],
   "source": [
    "for epoch in range(0,10):\n",
    "    e_loss=0\n",
    "    count=0\n",
    "    v_loss=0\n",
    "    for i, data in enumerate(train_dataloader):\n",
    "        # print(data)\n",
    "        count+=1\n",
    "        img0, img1 , label = data\n",
    "        img0, img1 , label = Variable(img0).cuda(), Variable(img1).cuda() , Variable(label).cuda()\n",
    "        output1,output2 = net.forward(img0,img1)\n",
    "        optimizer.zero_grad()\n",
    "        loss_contrastive = criterion(output1,output2,label)\n",
    "        e_loss+=loss_contrastive.item()\n",
    "        loss_contrastive.backward()\n",
    "        optimizer.step()\n",
    "    \n",
    "    with torch.no_grad():\n",
    "        for i, data in enumerate(testLoader):\n",
    "            img0, img1 , label = data\n",
    "            img0, img1 , label = Variable(img0).cuda(), Variable(img1).cuda() , Variable(label).cuda()\n",
    "            output1,output2 = net.forward(img0,img1)\n",
    "            v_loss=criterion(output1,output2, label)\n",
    "    \n",
    "    test_loss.append(v_loss)\n",
    "    loss_history.append(e_loss/count)\n",
    "    print(f\"Epoch {epoch} Loss:{e_loss/count} Val_Loss:{v_loss}\")"
   ]
  },
  {
   "cell_type": "code",
   "execution_count": 14,
   "id": "507f36f8",
   "metadata": {},
   "outputs": [],
   "source": [
    "import matplotlib.pyplot as plt"
   ]
  },
  {
   "cell_type": "code",
   "execution_count": 15,
   "id": "a36b8c4f",
   "metadata": {},
   "outputs": [
    {
     "data": {
      "text/plain": [
       "[<matplotlib.lines.Line2D at 0x1b051735f10>]"
      ]
     },
     "execution_count": 15,
     "metadata": {},
     "output_type": "execute_result"
    },
    {
     "data": {
      "image/png": "[encoded data removed]",
      "text/plain": [
       "<Figure size 432x288 with 1 Axes>"
      ]
     },
     "metadata": {
      "needs_background": "light"
     },
     "output_type": "display_data"
    }
   ],
   "source": [
    "plt.plot(loss_history)\n",
    "plt.plot(test_loss)"
   ]
  },
  {
   "cell_type": "code",
   "execution_count": 16,
   "id": "a4315221",
   "metadata": {},
   "outputs": [],
   "source": [
    "import torchvision"
   ]
  },
  {
   "cell_type": "code",
   "execution_count": 17,
   "id": "fe9b6fba",
   "metadata": {},
   "outputs": [],
   "source": [
    "dataiter=iter(testLoader)\n",
    "x0,x1,label= next(dataiter)"
   ]
  },
  {
   "cell_type": "code",
   "execution_count": 18,
   "id": "6461cd3d",
   "metadata": {},
   "outputs": [
    {
     "data": {
      "text/plain": [
       "Text(0.5, 1.0, 'Dissimilarity: 0.14499999582767487')"
      ]
     },
     "execution_count": 18,
     "metadata": {},
     "output_type": "execute_result"
    },
    {
     "data": {
      "image/png": "[encoded data removed]",
      "text/plain": [
       "<Figure size 432x288 with 1 Axes>"
      ]
     },
     "metadata": {
      "needs_background": "light"
     },
     "output_type": "display_data"
    }
   ],
   "source": [
    "_,x1,label=next(dataiter)\n",
    "x0.squeeze().shape\n",
    "output1,output2 = net(Variable(x0).cuda(),Variable(x1).cuda())\n",
    "euclidean_distance = F.pairwise_distance(output1, output2)\n",
    "concat=torch.cat((x0.squeeze(),x1.squeeze()),1)\n",
    "plt.imshow(concat[0],cmap=\"gray\")\n",
    "plt.title(f'Dissimilarity: {round(euclidean_distance.cpu().data.numpy()[0],3)}')"
   ]
  },
  {
   "cell_type": "code",
   "execution_count": null,
   "id": "829dc008",
   "metadata": {},
   "outputs": [],
   "source": []
  },
  {
   "cell_type": "code",
   "execution_count": null,
   "id": "23497433",
   "metadata": {},
   "outputs": [],
   "source": []
  }
 ],
 "metadata": {
  "kernelspec": {
   "display_name": "Python 3 (ipykernel)",
   "language": "python",
   "name": "python3"
  },
  "language_info": {
   "codemirror_mode": {
    "name": "ipython",
    "version": 3
   },
   "file_extension": ".py",
   "mimetype": "text/x-python",
   "name": "python",
   "nbconvert_exporter": "python",
   "pygments_lexer": "ipython3",
   "version": "3.9.5"
  }
 },
 "nbformat": 4,
 "nbformat_minor": 5
}
